{
 "cells": [
  {
   "cell_type": "markdown",
   "id": "1f0cad94-d022-4827-8e0c-ee0093728c8d",
   "metadata": {},
   "source": [
    "# **<그리디 알고리즘>**"
   ]
  },
  {
   "cell_type": "markdown",
   "id": "03c69185-0a08-4300-99bb-623f95dc6ddb",
   "metadata": {},
   "source": [
    "### **거스름돈**"
   ]
  },
  {
   "cell_type": "markdown",
   "id": "5bd9a561-d1fb-4331-8476-d31211596ac9",
   "metadata": {},
   "source": [
    "손님에게 거슬러 줘야 할 돈이 N원일 때 거술러 줘야 할 동전의 최소 개수를 구하라.\n",
    "- *500원, 100원, 50원, 10원 단위로 거슬러줄것*"
   ]
  },
  {
   "cell_type": "code",
   "execution_count": 4,
   "id": "c25e8c05-9be1-454b-9388-54e8bc9d925f",
   "metadata": {},
   "outputs": [
    {
     "name": "stdout",
     "output_type": "stream",
     "text": [
      "6\n"
     ]
    }
   ],
   "source": [
    "N = 1260\n",
    "count = 0\n",
    "\n",
    "coin_types = [500, 100, 50, 10]\n",
    "\n",
    "for coin in coin_types:\n",
    "    count += N // coin\n",
    "    N %= coin\n",
    "    \n",
    "print(count)\n",
    "    "
   ]
  },
  {
   "cell_type": "markdown",
   "id": "d42101a9-78d9-47ca-8362-b2e2b9f9d645",
   "metadata": {},
   "source": [
    "그리디 알고리즘을 모든 알고리즘 문제에 적용할 수 있는 것은 아니다.\n",
    "\n",
    "대부분의 문제는 그리디 알고리즘을 이용했을 때 '최적의 해'를 찾을 수 없을 가능성이 다분하다.\n",
    "\n",
    "**\"그리디 알고리즘으로 문제의 해법을 찾았을 때는 그 해법이 정당한지 검토해야 한다.\"**"
   ]
  }
 ],
 "metadata": {
  "kernelspec": {
   "display_name": "Python 3",
   "language": "python",
   "name": "python3"
  },
  "language_info": {
   "codemirror_mode": {
    "name": "ipython",
    "version": 3
   },
   "file_extension": ".py",
   "mimetype": "text/x-python",
   "name": "python",
   "nbconvert_exporter": "python",
   "pygments_lexer": "ipython3",
   "version": "3.7.10"
  }
 },
 "nbformat": 4,
 "nbformat_minor": 5
}
